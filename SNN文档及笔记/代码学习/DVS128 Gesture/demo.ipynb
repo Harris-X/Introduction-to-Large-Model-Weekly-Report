{
 "cells": [
  {
   "cell_type": "markdown",
   "source": [
    "## 获取Event数据\n",
    "> [参考链接](https://spikingjelly.readthedocs.io/zh-cn/latest/activation_based/neuromorphic_datasets.html)\n",
    "\n",
    "DVS128 Gesture中的每个样本，是在不同光照环境下，对不同表演者进行录制的手势视频。一个AER文件中包含了多个手势，对应的会有一个csv文件来标注整个视频内各个时间段内都是哪种手势。因此，单个的视频文件并不是一个类别，而是多个类别的集合。惊蜇框架会启动多线程进行划分，将每个视频中的每个手势类别文件单独提取出来"
   ],
   "metadata": {
    "collapsed": false
   },
   "id": "8700105df1b62ea0"
  },
  {
   "cell_type": "code",
   "execution_count": null,
   "id": "initial_id",
   "metadata": {
    "collapsed": true
   },
   "outputs": [],
   "source": [
    "from spikingjelly.datasets.dvs128_gesture import DVS128Gesture\n",
    "\n",
    "root_dir = r'C:\\Users\\Harris\\Documents\\GitWarehouse\\Dataset\\DVS128Gesture'\n",
    "train_set = DVS128Gesture(root_dir, train=True, data_type='event')"
   ]
  },
  {
   "cell_type": "markdown",
   "source": [
    "打印一个数据：\n",
    "其中 event 使用字典格式存储Events数据，键为 ['t', 'x', 'y', 'p']；label 是数据的标签，DVS128 Gesture共有11类。"
   ],
   "metadata": {
    "collapsed": false
   },
   "id": "4b377fb8f4b9f30b"
  },
  {
   "cell_type": "code",
   "outputs": [],
   "source": [
    "event, label = train_set[0]\n",
    "for k in event.keys():\n",
    "    print(k, event[k])\n",
    "print('label', label)"
   ],
   "metadata": {
    "collapsed": false
   },
   "id": "57f839dd30898ca1",
   "execution_count": null
  },
  {
   "cell_type": "markdown",
   "source": [
    "## 获取Frame数据\n",
    "对一段事件流进行积分成一帧的形式\n",
    "运行下列代码，惊蜇框架就会开始进行积分，创建Frame数据集：\n",
    "运行后，同级目录下会出现 frames_number_20_split_by_number 文件夹，这里存放了积分生成的Frame数据。"
   ],
   "metadata": {
    "collapsed": false
   },
   "id": "35ab764422a5001"
  },
  {
   "cell_type": "code",
   "outputs": [],
   "source": [
    "train_set = DVS128Gesture(root_dir, train=True, data_type='frame', frames_number=20, split_by='number')"
   ],
   "metadata": {
    "collapsed": false
   },
   "id": "4d6ef98a1eb36ab7",
   "execution_count": null
  },
  {
   "cell_type": "markdown",
   "source": [
    "打印一个数据："
   ],
   "metadata": {
    "collapsed": false
   },
   "id": "804131707864e79e"
  },
  {
   "cell_type": "code",
   "outputs": [],
   "source": [
    "frame, label = train_set[0]\n",
    "print(frame.shape)"
   ],
   "metadata": {
    "collapsed": false
   },
   "id": "88eb14fb16bd934",
   "execution_count": null
  },
  {
   "cell_type": "markdown",
   "source": [
    "## 查看1个积分好的Frame数据："
   ],
   "metadata": {
    "collapsed": false
   },
   "id": "a694dc6d2076607a"
  },
  {
   "cell_type": "code",
   "outputs": [],
   "source": [
    "from spikingjelly.datasets import play_frame\n",
    "frame, label = train_set[500]\n",
    "play_frame(frame)"
   ],
   "metadata": {
    "collapsed": false
   },
   "id": "a193d52cef2fbe44",
   "execution_count": null
  },
  {
   "cell_type": "code",
   "outputs": [],
   "source": [],
   "metadata": {
    "collapsed": false
   },
   "id": "13b7e1bc7ecf2887"
  }
 ],
 "metadata": {
  "kernelspec": {
   "display_name": "Python 3",
   "language": "python",
   "name": "python3"
  },
  "language_info": {
   "codemirror_mode": {
    "name": "ipython",
    "version": 2
   },
   "file_extension": ".py",
   "mimetype": "text/x-python",
   "name": "python",
   "nbconvert_exporter": "python",
   "pygments_lexer": "ipython2",
   "version": "2.7.6"
  }
 },
 "nbformat": 4,
 "nbformat_minor": 5
}
